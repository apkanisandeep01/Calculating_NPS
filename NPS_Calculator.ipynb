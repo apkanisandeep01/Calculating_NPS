{
  "nbformat": 4,
  "nbformat_minor": 0,
  "metadata": {
    "colab": {
      "provenance": [],
      "authorship_tag": "ABX9TyNez+J/24bdADcXEuMDBFHp",
      "include_colab_link": true
    },
    "kernelspec": {
      "name": "python3",
      "display_name": "Python 3"
    },
    "language_info": {
      "name": "python"
    }
  },
  "cells": [
    {
      "cell_type": "markdown",
      "metadata": {
        "id": "view-in-github",
        "colab_type": "text"
      },
      "source": [
        "<a href=\"https://colab.research.google.com/github/apkanisandeep01/Calculating_NPS/blob/main/NPS_Calculator.ipynb\" target=\"_parent\"><img src=\"https://colab.research.google.com/assets/colab-badge.svg\" alt=\"Open In Colab\"/></a>"
      ]
    },
    {
      "cell_type": "code",
      "execution_count": 1,
      "metadata": {
        "id": "ScYXBek1-w9t"
      },
      "outputs": [],
      "source": [
        "#importing the Librarry\n",
        "import numpy as np"
      ]
    },
    {
      "cell_type": "code",
      "source": [
        "#downing the file\n",
        "!gdown 1c0ClC8SrPwJq5rrkyMKyPn80nyHcFikK"
      ],
      "metadata": {
        "colab": {
          "base_uri": "https://localhost:8080/"
        },
        "id": "yGSaLzbe--v9",
        "outputId": "3429d4d4-42e6-4640-ae78-908cb35bf9cf"
      },
      "execution_count": 3,
      "outputs": [
        {
          "output_type": "stream",
          "name": "stdout",
          "text": [
            "Downloading...\n",
            "From: https://drive.google.com/uc?id=1c0ClC8SrPwJq5rrkyMKyPn80nyHcFikK\n",
            "To: /content/survey.txt\n",
            "\r  0% 0.00/2.55k [00:00<?, ?B/s]\r100% 2.55k/2.55k [00:00<00:00, 7.19MB/s]\n"
          ]
        }
      ]
    },
    {
      "cell_type": "code",
      "source": [
        "#loading the file\n",
        "arr = np.loadtxt(\"survey.txt\", dtype=int)\n",
        "arr"
      ],
      "metadata": {
        "colab": {
          "base_uri": "https://localhost:8080/"
        },
        "id": "Owc-d4Jo_CYJ",
        "outputId": "c3619793-4dd0-4925-e264-77263d4094a4"
      },
      "execution_count": 5,
      "outputs": [
        {
          "output_type": "execute_result",
          "data": {
            "text/plain": [
              "array([ 7, 10,  5, ...,  5,  9, 10])"
            ]
          },
          "metadata": {},
          "execution_count": 5
        }
      ]
    },
    {
      "cell_type": "code",
      "source": [
        "'''NPS = Net Prometor Score\n",
        "poeple who rate on the scale of 1-10\n",
        "detractors--> 0-6\n",
        "passive ----> 7,8\n",
        "Promoters --> 9, 10'''"
      ],
      "metadata": {
        "collapsed": true,
        "id": "An1YQFBi__Vc"
      },
      "execution_count": null,
      "outputs": []
    },
    {
      "cell_type": "code",
      "source": [
        "detractors = arr[arr <=6] #using mask/fancy indexing in NUMPY\n",
        "count_detractors = len(detractors)\n",
        "count_detractors"
      ],
      "metadata": {
        "colab": {
          "base_uri": "https://localhost:8080/"
        },
        "collapsed": true,
        "id": "Rqf2z58LAJoz",
        "outputId": "2cd2d789-3085-449a-9182-d43fb32cce7e"
      },
      "execution_count": 17,
      "outputs": [
        {
          "output_type": "execute_result",
          "data": {
            "text/plain": [
              "332"
            ]
          },
          "metadata": {},
          "execution_count": 17
        }
      ]
    },
    {
      "cell_type": "code",
      "source": [
        "promoters = arr[arr >= 9]\n",
        "count_promoters = len(promoters)\n",
        "count_promoters"
      ],
      "metadata": {
        "colab": {
          "base_uri": "https://localhost:8080/"
        },
        "id": "Ulext8JUAyeB",
        "outputId": "e0eb194a-39ee-4c66-fc17-b1ffd1c7f61f"
      },
      "execution_count": 12,
      "outputs": [
        {
          "output_type": "execute_result",
          "data": {
            "text/plain": [
              "609"
            ]
          },
          "metadata": {},
          "execution_count": 12
        }
      ]
    },
    {
      "cell_type": "code",
      "source": [
        "# total number of the poeple who rated on the scale\n",
        "total = len(arr)\n",
        "total"
      ],
      "metadata": {
        "colab": {
          "base_uri": "https://localhost:8080/"
        },
        "id": "fkQw3WbmBCBU",
        "outputId": "42516382-45c4-4e3f-ad31-cd6fd6f44185"
      },
      "execution_count": 14,
      "outputs": [
        {
          "output_type": "execute_result",
          "data": {
            "text/plain": [
              "1167"
            ]
          },
          "metadata": {},
          "execution_count": 14
        }
      ]
    },
    {
      "cell_type": "code",
      "source": [
        "#finding the % of Detratcores an promoters\n",
        "\n",
        "#Detractores\n",
        "detractors = round((count_detractors/total)*100,2)\n",
        "print(\"detractors \", detractors)\n",
        "\n",
        "#Promoters\n",
        "promoters = round((count_promoters/total)*100,2)\n",
        "print(\"promoters \", promoters)"
      ],
      "metadata": {
        "colab": {
          "base_uri": "https://localhost:8080/"
        },
        "id": "a7cSsP3dBMYZ",
        "outputId": "8a51de66-520f-445f-a70a-cc8607ba0ad3"
      },
      "execution_count": 21,
      "outputs": [
        {
          "output_type": "stream",
          "name": "stdout",
          "text": [
            "detractors  28.45\n",
            "promoters  52.19\n"
          ]
        }
      ]
    },
    {
      "cell_type": "code",
      "source": [
        "# NPS = promoters - detractors\n",
        "\n",
        "nps = promoters - detractors\n",
        "print(\"NPS score: \", nps)"
      ],
      "metadata": {
        "colab": {
          "base_uri": "https://localhost:8080/"
        },
        "id": "2IYlqsdRCZHA",
        "outputId": "eaf35274-dbd5-42ac-b307-4f28344ea3f0"
      },
      "execution_count": 23,
      "outputs": [
        {
          "output_type": "stream",
          "name": "stdout",
          "text": [
            "NPS score:  23.74\n"
          ]
        }
      ]
    }
  ]
}